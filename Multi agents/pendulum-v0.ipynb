{
 "cells": [
  {
   "cell_type": "code",
   "execution_count": 1,
   "id": "86960e1e",
   "metadata": {},
   "outputs": [],
   "source": [
    "import numpy as np\n",
    "import gym \n",
    "env = gym.make(\"Pendulum-v1\")"
   ]
  },
  {
   "cell_type": "code",
   "execution_count": 2,
   "id": "ad302167",
   "metadata": {},
   "outputs": [],
   "source": [
    "class RandomPolicy:\n",
    "    \n",
    "    def __init__(self,env):\n",
    "        self._max_action = self._action_space_low = env.action_space.low\n",
    "        \n",
    "        self._action_space_high = env.action_space.high\n",
    "        \n",
    "        self.policy_name = \"RandomPolicy\"\n",
    "        \n",
    "    def get_action(self, state):\n",
    "        return np.random.uniform(\n",
    "        low = -self._max_action , \n",
    "        high = self._max_action\n",
    "        )"
   ]
  },
  {
   "cell_type": "code",
   "execution_count": 3,
   "id": "d448086e",
   "metadata": {},
   "outputs": [
    {
     "name": "stdout",
     "output_type": "stream",
     "text": [
      "Episode 0 finished, reward:-655, the length of the episode:99\n",
      "Episode 1 finished, reward:-822, the length of the episode:99\n",
      "Episode 2 finished, reward:-501, the length of the episode:99\n",
      "Episode 3 finished, reward:-515, the length of the episode:99\n"
     ]
    }
   ],
   "source": [
    "policy = RandomPolicy(env)\n",
    "\n",
    "number_episodes = 4\n",
    "number_moves = 100\n",
    "\n",
    "for i in range (number_episodes):\n",
    "    state = env.reset()\n",
    "    done= False\n",
    "    game_rew =0\n",
    "    \n",
    "    for j in range(number_moves):\n",
    "        action = policy.get_action(state) ##random action\n",
    "        next_state, rew, done, info = env.step(action)\n",
    "        \n",
    "        state = next_state\n",
    "        game_rew += rew\n",
    "        env.render()\n",
    "        \n",
    "        if done:\n",
    "            print(\"Done\")\n",
    "            break\n",
    "            \n",
    "    print('Episode %d finished, reward:%d, the length of the episode:%d'% (i, game_rew, j))\n",
    "    \n",
    "env.close()"
   ]
  },
  {
   "cell_type": "code",
   "execution_count": null,
   "id": "ee08f891",
   "metadata": {},
   "outputs": [],
   "source": []
  }
 ],
 "metadata": {
  "kernelspec": {
   "display_name": "Python 3 (ipykernel)",
   "language": "python",
   "name": "python3"
  },
  "language_info": {
   "codemirror_mode": {
    "name": "ipython",
    "version": 3
   },
   "file_extension": ".py",
   "mimetype": "text/x-python",
   "name": "python",
   "nbconvert_exporter": "python",
   "pygments_lexer": "ipython3",
   "version": "3.9.7"
  }
 },
 "nbformat": 4,
 "nbformat_minor": 5
}
